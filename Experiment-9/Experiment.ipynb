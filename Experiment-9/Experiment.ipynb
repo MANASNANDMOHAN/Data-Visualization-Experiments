{
 "cells": [
  {
   "cell_type": "code",
   "execution_count": null,
   "id": "bbebffbc",
   "metadata": {},
   "outputs": [],
   "source": [
    " #Write code in python to remove a region from the world's map & display the rest of it"
   ]
  },
  {
   "cell_type": "code",
   "execution_count": null,
   "id": "d4492444",
   "metadata": {},
   "outputs": [],
   "source": [
    "proj_4326 = Proj(\"epsg:4326\")\n",
    "proj_3857 = Proj(\"epsg:3857\")"
   ]
  },
  {
   "cell_type": "code",
   "execution_count": null,
   "id": "6d35d554",
   "metadata": {},
   "outputs": [],
   "source": [
    "crs=CRS(\"epsg:3857\")\n",
    "prov_shp = prov_shp.to_crs(crs)"
   ]
  },
  {
   "cell_type": "code",
   "execution_count": null,
   "id": "0b0b9e5e",
   "metadata": {},
   "outputs": [],
   "source": [
    "pip install geopandas pyproj proj\n"
   ]
  },
  {
   "cell_type": "code",
   "execution_count": null,
   "id": "90c328cb",
   "metadata": {},
   "outputs": [],
   "source": [
    "pip install fiona\n"
   ]
  },
  {
   "cell_type": "code",
   "execution_count": null,
   "id": "c4c1bced",
   "metadata": {},
   "outputs": [],
   "source": [
    "print(my_geodataframe.crs)\n",
    "\n"
   ]
  },
  {
   "cell_type": "code",
   "execution_count": null,
   "id": "fe63a357",
   "metadata": {},
   "outputs": [],
   "source": [
    "my_geodataframe = gpd.read_file('world.shp', crs='epsg:4326')\n"
   ]
  },
  {
   "cell_type": "code",
   "execution_count": null,
   "id": "633cf3a4",
   "metadata": {},
   "outputs": [],
   "source": []
  },
  {
   "cell_type": "code",
   "execution_count": null,
   "id": "f04f109f",
   "metadata": {},
   "outputs": [],
   "source": [
    "import geopandas as gpd\n",
    "# read in the world map shapefile\n",
    "world = gpd.read_file('World_Countries.shp')\n",
    "\n",
    "# select the region to remove (in this example, North America)\n",
    "north_america = world.loc[world['continent'] == 'North America']\n",
    "\n",
    "# remove the selected region from the world map\n",
    "world = world.difference(north_america)\n",
    "\n",
    "# plot the resulting world map without North America\n",
    "world.plot(figsize=(10, 6))\n"
   ]
  },
  {
   "cell_type": "code",
   "execution_count": null,
   "id": "b99e9bcc",
   "metadata": {},
   "outputs": [],
   "source": [
    "#Import relevant package\n",
    "import plotly.express as px\n",
    "import geopandas as gpd\n",
    "import pandas as pd\n",
    "import matplotlib.pyplot as plt "
   ]
  },
  {
   "cell_type": "code",
   "execution_count": null,
   "id": "d2c605a7",
   "metadata": {},
   "outputs": [],
   "source": [
    "World = gpd.read_file(\"world.shp\")\n",
    "World"
   ]
  },
  {
   "cell_type": "code",
   "execution_count": null,
   "id": "0829201c",
   "metadata": {},
   "outputs": [],
   "source": [
    "!pip install pyproj==3.0.0.post1\n"
   ]
  },
  {
   "cell_type": "code",
   "execution_count": null,
   "id": "052e68ee",
   "metadata": {},
   "outputs": [],
   "source": [
    "!pip uninstall geopandas\n",
    " \n"
   ]
  },
  {
   "cell_type": "code",
   "execution_count": null,
   "id": "56629def",
   "metadata": {},
   "outputs": [],
   "source": [
    "!pip install geopandas"
   ]
  },
  {
   "cell_type": "code",
   "execution_count": null,
   "id": "695eeaf8",
   "metadata": {},
   "outputs": [],
   "source": [
    "pip install --upgrade --force-reinstall pyproj\n"
   ]
  },
  {
   "cell_type": "code",
   "execution_count": 1,
   "id": "b0dd93bc",
   "metadata": {},
   "outputs": [],
   "source": [
    "import geopandas as gpd\n",
    "\n",
    "# read in the world map shapefile\n",
    "world = gpd.read_file(gpd.datasets.get_path('naturalearth_lowres'))\n",
    "\n",
    "# set the coordinate reference system (CRS) to WGS84 (EPSG:4326)\n",
    "world = world.to_crs(epsg=4326)\n",
    "\n",
    "# select the region to remove (in this example, North America)\n",
    "north_america = world.loc[world['continent'] == 'North America']\n"
   ]
  },
  {
   "cell_type": "code",
   "execution_count": null,
   "id": "1ac181a4",
   "metadata": {},
   "outputs": [],
   "source": []
  }
 ],
 "metadata": {
  "kernelspec": {
   "display_name": "Python 3 (ipykernel)",
   "language": "python",
   "name": "python3"
  },
  "language_info": {
   "codemirror_mode": {
    "name": "ipython",
    "version": 3
   },
   "file_extension": ".py",
   "mimetype": "text/x-python",
   "name": "python",
   "nbconvert_exporter": "python",
   "pygments_lexer": "ipython3",
   "version": "3.9.12"
  }
 },
 "nbformat": 4,
 "nbformat_minor": 5
}
